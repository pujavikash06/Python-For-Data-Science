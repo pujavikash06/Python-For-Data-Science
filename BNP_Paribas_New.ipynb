{
 "cells": [
  {
   "cell_type": "markdown",
   "metadata": {},
   "source": [
    "#Libraries"
   ]
  },
  {
   "cell_type": "code",
   "execution_count": 123,
   "metadata": {
    "collapsed": false
   },
   "outputs": [],
   "source": [
    "# pandas\n",
    "import pandas as pd\n",
    "from pandas import Series,DataFrame\n",
    "\n",
    "# numpy, matplotlib, seaborn\n",
    "import sklearn.linear_model as skl_lm\n",
    "import numpy as np\n",
    "import matplotlib as mpl\n",
    "import matplotlib.pyplot as plt\n",
    "import seaborn as sns\n",
    "sns.set_style('whitegrid')\n",
    "%matplotlib inline\n",
    "\n",
    "# machine learning\n",
    "from sklearn.linear_model import LogisticRegression\n",
    "from sklearn.svm import SVC, LinearSVC\n",
    "from sklearn.ensemble import RandomForestClassifier\n",
    "from sklearn.neighbors import KNeighborsClassifier\n",
    "from sklearn.naive_bayes import GaussianNB\n",
    "from sklearn import cross_validation\n",
    "\n"
   ]
  },
  {
   "cell_type": "markdown",
   "metadata": {},
   "source": [
    "#Defining Functions"
   ]
  },
  {
   "cell_type": "code",
   "execution_count": 47,
   "metadata": {
    "collapsed": false
   },
   "outputs": [],
   "source": [
    "#This function drops columns which have object type datatypes\n",
    "def dtype_drop(data):\n",
    "    for col in data.columns:\n",
    "        if data[col].dtype=='object':\n",
    "            data.drop(col,inplace=True,axis=1)\n",
    "        else:\n",
    "            pass\n",
    "        \n",
    "#Filing the NaN values with mean \n",
    "def fill_values(data):\n",
    "    for col in data.columns:\n",
    "        if data[col].dtype=='float64':\n",
    "            data[col][np.isnan(data[col])] = data[col].mean()\n",
    "        else:\n",
    "            pass"
   ]
  },
  {
   "cell_type": "markdown",
   "metadata": {},
   "source": [
    "#Data"
   ]
  },
  {
   "cell_type": "code",
   "execution_count": 102,
   "metadata": {
    "collapsed": false
   },
   "outputs": [
    {
     "name": "stdout",
     "output_type": "stream",
     "text": [
      "<class 'pandas.core.frame.DataFrame'>\n",
      "Int64Index: 114321 entries, 0 to 114320\n",
      "Columns: 133 entries, ID to v131\n",
      "dtypes: float64(108), int64(6), object(19)\n",
      "memory usage: 116.9+ MB\n",
      "-----------------------------\n",
      "<class 'pandas.core.frame.DataFrame'>\n",
      "Int64Index: 114393 entries, 0 to 114392\n",
      "Columns: 132 entries, ID to v131\n",
      "dtypes: float64(108), int64(5), object(19)\n",
      "memory usage: 116.1+ MB\n"
     ]
    }
   ],
   "source": [
    "bnp_train=pd.read_csv('../data/train.csv')\n",
    "bnp_test=pd.read_csv('../data/test.csv')\n",
    "\n",
    "bnp_train.info()\n",
    "print '-----------------------------'\n",
    "bnp_test.info()"
   ]
  },
  {
   "cell_type": "code",
   "execution_count": 103,
   "metadata": {
    "collapsed": false
   },
   "outputs": [
    {
     "name": "stdout",
     "output_type": "stream",
     "text": [
      "(114321, 133)\n",
      "(114393, 132)\n",
      "1    87021\n",
      "0    27300\n",
      "dtype: int64\n",
      "ID          int64\n",
      "target      int64\n",
      "v1        float64\n",
      "v2        float64\n",
      "v3         object\n",
      "v4        float64\n",
      "v5        float64\n",
      "v6        float64\n",
      "v7        float64\n",
      "v8        float64\n",
      "v9        float64\n",
      "v10       float64\n",
      "v11       float64\n",
      "v12       float64\n",
      "v13       float64\n",
      "v14       float64\n",
      "v15       float64\n",
      "v16       float64\n",
      "v17       float64\n",
      "v18       float64\n",
      "v19       float64\n",
      "v20       float64\n",
      "v21       float64\n",
      "v22        object\n",
      "v23       float64\n",
      "v24        object\n",
      "v25       float64\n",
      "v26       float64\n",
      "v27       float64\n",
      "v28       float64\n",
      "           ...   \n",
      "v102      float64\n",
      "v103      float64\n",
      "v104      float64\n",
      "v105      float64\n",
      "v106      float64\n",
      "v107       object\n",
      "v108      float64\n",
      "v109      float64\n",
      "v110       object\n",
      "v111      float64\n",
      "v112       object\n",
      "v113       object\n",
      "v114      float64\n",
      "v115      float64\n",
      "v116      float64\n",
      "v117      float64\n",
      "v118      float64\n",
      "v119      float64\n",
      "v120      float64\n",
      "v121      float64\n",
      "v122      float64\n",
      "v123      float64\n",
      "v124      float64\n",
      "v125       object\n",
      "v126      float64\n",
      "v127      float64\n",
      "v128      float64\n",
      "v129        int64\n",
      "v130      float64\n",
      "v131      float64\n",
      "dtype: object\n"
     ]
    },
    {
     "data": {
      "text/html": [
       "<div>\n",
       "<table border=\"1\" class=\"dataframe\">\n",
       "  <thead>\n",
       "    <tr style=\"text-align: right;\">\n",
       "      <th></th>\n",
       "      <th>ID</th>\n",
       "      <th>target</th>\n",
       "      <th>v1</th>\n",
       "      <th>v2</th>\n",
       "      <th>v3</th>\n",
       "      <th>v4</th>\n",
       "      <th>v5</th>\n",
       "      <th>v6</th>\n",
       "      <th>v7</th>\n",
       "      <th>v8</th>\n",
       "      <th>...</th>\n",
       "      <th>v122</th>\n",
       "      <th>v123</th>\n",
       "      <th>v124</th>\n",
       "      <th>v125</th>\n",
       "      <th>v126</th>\n",
       "      <th>v127</th>\n",
       "      <th>v128</th>\n",
       "      <th>v129</th>\n",
       "      <th>v130</th>\n",
       "      <th>v131</th>\n",
       "    </tr>\n",
       "  </thead>\n",
       "  <tbody>\n",
       "    <tr>\n",
       "      <th>0</th>\n",
       "      <td>3</td>\n",
       "      <td>1</td>\n",
       "      <td>1.335739</td>\n",
       "      <td>8.727474</td>\n",
       "      <td>C</td>\n",
       "      <td>3.921026</td>\n",
       "      <td>7.915266</td>\n",
       "      <td>2.599278</td>\n",
       "      <td>3.176895</td>\n",
       "      <td>0.012941</td>\n",
       "      <td>...</td>\n",
       "      <td>8.000000</td>\n",
       "      <td>1.989780</td>\n",
       "      <td>0.035754</td>\n",
       "      <td>AU</td>\n",
       "      <td>1.804126</td>\n",
       "      <td>3.113719</td>\n",
       "      <td>2.024285</td>\n",
       "      <td>0</td>\n",
       "      <td>0.636365</td>\n",
       "      <td>2.857144</td>\n",
       "    </tr>\n",
       "    <tr>\n",
       "      <th>1</th>\n",
       "      <td>4</td>\n",
       "      <td>1</td>\n",
       "      <td>NaN</td>\n",
       "      <td>NaN</td>\n",
       "      <td>C</td>\n",
       "      <td>NaN</td>\n",
       "      <td>9.191265</td>\n",
       "      <td>NaN</td>\n",
       "      <td>NaN</td>\n",
       "      <td>2.301630</td>\n",
       "      <td>...</td>\n",
       "      <td>NaN</td>\n",
       "      <td>NaN</td>\n",
       "      <td>0.598896</td>\n",
       "      <td>AF</td>\n",
       "      <td>NaN</td>\n",
       "      <td>NaN</td>\n",
       "      <td>1.957825</td>\n",
       "      <td>0</td>\n",
       "      <td>NaN</td>\n",
       "      <td>NaN</td>\n",
       "    </tr>\n",
       "    <tr>\n",
       "      <th>2</th>\n",
       "      <td>5</td>\n",
       "      <td>1</td>\n",
       "      <td>0.943877</td>\n",
       "      <td>5.310079</td>\n",
       "      <td>C</td>\n",
       "      <td>4.410969</td>\n",
       "      <td>5.326159</td>\n",
       "      <td>3.979592</td>\n",
       "      <td>3.928571</td>\n",
       "      <td>0.019645</td>\n",
       "      <td>...</td>\n",
       "      <td>9.333333</td>\n",
       "      <td>2.477596</td>\n",
       "      <td>0.013452</td>\n",
       "      <td>AE</td>\n",
       "      <td>1.773709</td>\n",
       "      <td>3.922193</td>\n",
       "      <td>1.120468</td>\n",
       "      <td>2</td>\n",
       "      <td>0.883118</td>\n",
       "      <td>1.176472</td>\n",
       "    </tr>\n",
       "    <tr>\n",
       "      <th>3</th>\n",
       "      <td>6</td>\n",
       "      <td>1</td>\n",
       "      <td>0.797415</td>\n",
       "      <td>8.304757</td>\n",
       "      <td>C</td>\n",
       "      <td>4.225930</td>\n",
       "      <td>11.627438</td>\n",
       "      <td>2.097700</td>\n",
       "      <td>1.987549</td>\n",
       "      <td>0.171947</td>\n",
       "      <td>...</td>\n",
       "      <td>7.018256</td>\n",
       "      <td>1.812795</td>\n",
       "      <td>0.002267</td>\n",
       "      <td>CJ</td>\n",
       "      <td>1.415230</td>\n",
       "      <td>2.954381</td>\n",
       "      <td>1.990847</td>\n",
       "      <td>1</td>\n",
       "      <td>1.677108</td>\n",
       "      <td>1.034483</td>\n",
       "    </tr>\n",
       "    <tr>\n",
       "      <th>4</th>\n",
       "      <td>8</td>\n",
       "      <td>1</td>\n",
       "      <td>NaN</td>\n",
       "      <td>NaN</td>\n",
       "      <td>C</td>\n",
       "      <td>NaN</td>\n",
       "      <td>NaN</td>\n",
       "      <td>NaN</td>\n",
       "      <td>NaN</td>\n",
       "      <td>NaN</td>\n",
       "      <td>...</td>\n",
       "      <td>NaN</td>\n",
       "      <td>NaN</td>\n",
       "      <td>NaN</td>\n",
       "      <td>Z</td>\n",
       "      <td>NaN</td>\n",
       "      <td>NaN</td>\n",
       "      <td>NaN</td>\n",
       "      <td>0</td>\n",
       "      <td>NaN</td>\n",
       "      <td>NaN</td>\n",
       "    </tr>\n",
       "  </tbody>\n",
       "</table>\n",
       "<p>5 rows × 133 columns</p>\n",
       "</div>"
      ],
      "text/plain": [
       "   ID  target        v1        v2 v3        v4         v5        v6        v7  \\\n",
       "0   3       1  1.335739  8.727474  C  3.921026   7.915266  2.599278  3.176895   \n",
       "1   4       1       NaN       NaN  C       NaN   9.191265       NaN       NaN   \n",
       "2   5       1  0.943877  5.310079  C  4.410969   5.326159  3.979592  3.928571   \n",
       "3   6       1  0.797415  8.304757  C  4.225930  11.627438  2.097700  1.987549   \n",
       "4   8       1       NaN       NaN  C       NaN        NaN       NaN       NaN   \n",
       "\n",
       "         v8    ...         v122      v123      v124  v125      v126      v127  \\\n",
       "0  0.012941    ...     8.000000  1.989780  0.035754    AU  1.804126  3.113719   \n",
       "1  2.301630    ...          NaN       NaN  0.598896    AF       NaN       NaN   \n",
       "2  0.019645    ...     9.333333  2.477596  0.013452    AE  1.773709  3.922193   \n",
       "3  0.171947    ...     7.018256  1.812795  0.002267    CJ  1.415230  2.954381   \n",
       "4       NaN    ...          NaN       NaN       NaN     Z       NaN       NaN   \n",
       "\n",
       "       v128  v129      v130      v131  \n",
       "0  2.024285     0  0.636365  2.857144  \n",
       "1  1.957825     0       NaN       NaN  \n",
       "2  1.120468     2  0.883118  1.176472  \n",
       "3  1.990847     1  1.677108  1.034483  \n",
       "4       NaN     0       NaN       NaN  \n",
       "\n",
       "[5 rows x 133 columns]"
      ]
     },
     "execution_count": 103,
     "metadata": {},
     "output_type": "execute_result"
    }
   ],
   "source": [
    "print bnp_train.shape\n",
    "print bnp_test.shape\n",
    "print bnp_train.target.value_counts()\n",
    "print bnp_train.dtypes\n",
    "bnp_train.head()"
   ]
  },
  {
   "cell_type": "code",
   "execution_count": 104,
   "metadata": {
    "collapsed": false
   },
   "outputs": [
    {
     "data": {
      "text/html": [
       "<div>\n",
       "<table border=\"1\" class=\"dataframe\">\n",
       "  <thead>\n",
       "    <tr style=\"text-align: right;\">\n",
       "      <th></th>\n",
       "      <th>ID</th>\n",
       "      <th>v1</th>\n",
       "      <th>v2</th>\n",
       "      <th>v3</th>\n",
       "      <th>v4</th>\n",
       "      <th>v5</th>\n",
       "      <th>v6</th>\n",
       "      <th>v7</th>\n",
       "      <th>v8</th>\n",
       "      <th>v9</th>\n",
       "      <th>...</th>\n",
       "      <th>v122</th>\n",
       "      <th>v123</th>\n",
       "      <th>v124</th>\n",
       "      <th>v125</th>\n",
       "      <th>v126</th>\n",
       "      <th>v127</th>\n",
       "      <th>v128</th>\n",
       "      <th>v129</th>\n",
       "      <th>v130</th>\n",
       "      <th>v131</th>\n",
       "    </tr>\n",
       "  </thead>\n",
       "  <tbody>\n",
       "    <tr>\n",
       "      <th>0</th>\n",
       "      <td>0</td>\n",
       "      <td>1.375465e+00</td>\n",
       "      <td>11.361141</td>\n",
       "      <td>C</td>\n",
       "      <td>4.200778</td>\n",
       "      <td>6.57700</td>\n",
       "      <td>2.081784</td>\n",
       "      <td>1.784386</td>\n",
       "      <td>0.011094</td>\n",
       "      <td>9.523810</td>\n",
       "      <td>...</td>\n",
       "      <td>7.619048</td>\n",
       "      <td>1.815241</td>\n",
       "      <td>1.112270e-07</td>\n",
       "      <td>AF</td>\n",
       "      <td>1.292368</td>\n",
       "      <td>3.903345</td>\n",
       "      <td>1.485925</td>\n",
       "      <td>0</td>\n",
       "      <td>2.333334</td>\n",
       "      <td>1.428572e+00</td>\n",
       "    </tr>\n",
       "    <tr>\n",
       "      <th>1</th>\n",
       "      <td>1</td>\n",
       "      <td>NaN</td>\n",
       "      <td>NaN</td>\n",
       "      <td>C</td>\n",
       "      <td>NaN</td>\n",
       "      <td>NaN</td>\n",
       "      <td>NaN</td>\n",
       "      <td>NaN</td>\n",
       "      <td>NaN</td>\n",
       "      <td>NaN</td>\n",
       "      <td>...</td>\n",
       "      <td>NaN</td>\n",
       "      <td>NaN</td>\n",
       "      <td>NaN</td>\n",
       "      <td>I</td>\n",
       "      <td>NaN</td>\n",
       "      <td>NaN</td>\n",
       "      <td>NaN</td>\n",
       "      <td>0</td>\n",
       "      <td>NaN</td>\n",
       "      <td>NaN</td>\n",
       "    </tr>\n",
       "    <tr>\n",
       "      <th>2</th>\n",
       "      <td>2</td>\n",
       "      <td>-4.903407e-07</td>\n",
       "      <td>8.201529</td>\n",
       "      <td>C</td>\n",
       "      <td>4.544371</td>\n",
       "      <td>6.55010</td>\n",
       "      <td>1.558442</td>\n",
       "      <td>2.467532</td>\n",
       "      <td>0.007164</td>\n",
       "      <td>7.142858</td>\n",
       "      <td>...</td>\n",
       "      <td>5.714286</td>\n",
       "      <td>1.970928</td>\n",
       "      <td>1.412265e-02</td>\n",
       "      <td>AV</td>\n",
       "      <td>1.128724</td>\n",
       "      <td>5.844156</td>\n",
       "      <td>1.475892</td>\n",
       "      <td>0</td>\n",
       "      <td>1.263157</td>\n",
       "      <td>-6.380022e-07</td>\n",
       "    </tr>\n",
       "    <tr>\n",
       "      <th>3</th>\n",
       "      <td>7</td>\n",
       "      <td>2.661870e+00</td>\n",
       "      <td>3.041241</td>\n",
       "      <td>C</td>\n",
       "      <td>1.657216</td>\n",
       "      <td>9.77308</td>\n",
       "      <td>2.078337</td>\n",
       "      <td>1.430855</td>\n",
       "      <td>1.252157</td>\n",
       "      <td>7.959596</td>\n",
       "      <td>...</td>\n",
       "      <td>4.404040</td>\n",
       "      <td>8.163614</td>\n",
       "      <td>1.100329e+00</td>\n",
       "      <td>B</td>\n",
       "      <td>1.988688</td>\n",
       "      <td>1.558753</td>\n",
       "      <td>2.448814</td>\n",
       "      <td>0</td>\n",
       "      <td>5.385474</td>\n",
       "      <td>1.493777e+00</td>\n",
       "    </tr>\n",
       "    <tr>\n",
       "      <th>4</th>\n",
       "      <td>10</td>\n",
       "      <td>1.252822e+00</td>\n",
       "      <td>11.283352</td>\n",
       "      <td>C</td>\n",
       "      <td>4.638388</td>\n",
       "      <td>8.52051</td>\n",
       "      <td>2.302484</td>\n",
       "      <td>3.510159</td>\n",
       "      <td>0.074263</td>\n",
       "      <td>7.612904</td>\n",
       "      <td>...</td>\n",
       "      <td>6.580644</td>\n",
       "      <td>1.325654</td>\n",
       "      <td>2.584588e-01</td>\n",
       "      <td>A</td>\n",
       "      <td>1.863796</td>\n",
       "      <td>2.666478</td>\n",
       "      <td>2.374275</td>\n",
       "      <td>0</td>\n",
       "      <td>0.681672</td>\n",
       "      <td>2.264151e+00</td>\n",
       "    </tr>\n",
       "  </tbody>\n",
       "</table>\n",
       "<p>5 rows × 132 columns</p>\n",
       "</div>"
      ],
      "text/plain": [
       "   ID            v1         v2 v3        v4       v5        v6        v7  \\\n",
       "0   0  1.375465e+00  11.361141  C  4.200778  6.57700  2.081784  1.784386   \n",
       "1   1           NaN        NaN  C       NaN      NaN       NaN       NaN   \n",
       "2   2 -4.903407e-07   8.201529  C  4.544371  6.55010  1.558442  2.467532   \n",
       "3   7  2.661870e+00   3.041241  C  1.657216  9.77308  2.078337  1.430855   \n",
       "4  10  1.252822e+00  11.283352  C  4.638388  8.52051  2.302484  3.510159   \n",
       "\n",
       "         v8        v9      ...           v122      v123          v124  v125  \\\n",
       "0  0.011094  9.523810      ...       7.619048  1.815241  1.112270e-07    AF   \n",
       "1       NaN       NaN      ...            NaN       NaN           NaN     I   \n",
       "2  0.007164  7.142858      ...       5.714286  1.970928  1.412265e-02    AV   \n",
       "3  1.252157  7.959596      ...       4.404040  8.163614  1.100329e+00     B   \n",
       "4  0.074263  7.612904      ...       6.580644  1.325654  2.584588e-01     A   \n",
       "\n",
       "       v126      v127      v128  v129      v130          v131  \n",
       "0  1.292368  3.903345  1.485925     0  2.333334  1.428572e+00  \n",
       "1       NaN       NaN       NaN     0       NaN           NaN  \n",
       "2  1.128724  5.844156  1.475892     0  1.263157 -6.380022e-07  \n",
       "3  1.988688  1.558753  2.448814     0  5.385474  1.493777e+00  \n",
       "4  1.863796  2.666478  2.374275     0  0.681672  2.264151e+00  \n",
       "\n",
       "[5 rows x 132 columns]"
      ]
     },
     "execution_count": 104,
     "metadata": {},
     "output_type": "execute_result"
    }
   ],
   "source": [
    "bnp_test.head()"
   ]
  },
  {
   "cell_type": "code",
   "execution_count": 105,
   "metadata": {
    "collapsed": false
   },
   "outputs": [
    {
     "name": "stderr",
     "output_type": "stream",
     "text": [
      "/anaconda/lib/python2.7/site-packages/IPython/kernel/__main__.py:13: SettingWithCopyWarning: \n",
      "A value is trying to be set on a copy of a slice from a DataFrame\n",
      "\n",
      "See the the caveats in the documentation: http://pandas.pydata.org/pandas-docs/stable/indexing.html#indexing-view-versus-copy\n"
     ]
    }
   ],
   "source": [
    "#dropping columns which has object type data\n",
    "dtype_drop(bnp_train)\n",
    "dtype_drop(bnp_test)\n",
    "\n",
    "#filling nan values with mean\n",
    "fill_values(bnp_train)\n",
    "fill_values(bnp_test)"
   ]
  },
  {
   "cell_type": "code",
   "execution_count": 106,
   "metadata": {
    "collapsed": false
   },
   "outputs": [
    {
     "name": "stdout",
     "output_type": "stream",
     "text": [
      "(114321, 114)\n",
      "(114393, 113)\n"
     ]
    }
   ],
   "source": [
    "print bnp_train.shape\n",
    "print bnp_test.shape"
   ]
  },
  {
   "cell_type": "code",
   "execution_count": 107,
   "metadata": {
    "collapsed": false
   },
   "outputs": [
    {
     "data": {
      "text/html": [
       "<div>\n",
       "<table border=\"1\" class=\"dataframe\">\n",
       "  <thead>\n",
       "    <tr style=\"text-align: right;\">\n",
       "      <th></th>\n",
       "      <th>ID</th>\n",
       "      <th>v1</th>\n",
       "      <th>v2</th>\n",
       "      <th>v4</th>\n",
       "      <th>v5</th>\n",
       "      <th>v6</th>\n",
       "      <th>v7</th>\n",
       "      <th>v8</th>\n",
       "      <th>v9</th>\n",
       "      <th>v10</th>\n",
       "      <th>...</th>\n",
       "      <th>v121</th>\n",
       "      <th>v122</th>\n",
       "      <th>v123</th>\n",
       "      <th>v124</th>\n",
       "      <th>v126</th>\n",
       "      <th>v127</th>\n",
       "      <th>v128</th>\n",
       "      <th>v129</th>\n",
       "      <th>v130</th>\n",
       "      <th>v131</th>\n",
       "    </tr>\n",
       "  </thead>\n",
       "  <tbody>\n",
       "    <tr>\n",
       "      <th>0</th>\n",
       "      <td>0</td>\n",
       "      <td>1.375465e+00</td>\n",
       "      <td>11.361141</td>\n",
       "      <td>4.200778</td>\n",
       "      <td>6.577000</td>\n",
       "      <td>2.081784</td>\n",
       "      <td>1.784386</td>\n",
       "      <td>0.011094</td>\n",
       "      <td>9.523810</td>\n",
       "      <td>1.312911</td>\n",
       "      <td>...</td>\n",
       "      <td>3.267328</td>\n",
       "      <td>7.619048</td>\n",
       "      <td>1.815241</td>\n",
       "      <td>1.112270e-07</td>\n",
       "      <td>1.292368</td>\n",
       "      <td>3.903345</td>\n",
       "      <td>1.485925</td>\n",
       "      <td>0</td>\n",
       "      <td>2.333334</td>\n",
       "      <td>1.428572e+00</td>\n",
       "    </tr>\n",
       "    <tr>\n",
       "      <th>1</th>\n",
       "      <td>1</td>\n",
       "      <td>1.628623e+00</td>\n",
       "      <td>7.436088</td>\n",
       "      <td>4.141265</td>\n",
       "      <td>8.739797</td>\n",
       "      <td>2.435884</td>\n",
       "      <td>2.482134</td>\n",
       "      <td>1.512246</td>\n",
       "      <td>9.031840</td>\n",
       "      <td>1.291029</td>\n",
       "      <td>...</td>\n",
       "      <td>2.744040</td>\n",
       "      <td>6.823218</td>\n",
       "      <td>3.556940</td>\n",
       "      <td>9.388672e-01</td>\n",
       "      <td>1.672504</td>\n",
       "      <td>3.237892</td>\n",
       "      <td>2.028595</td>\n",
       "      <td>0</td>\n",
       "      <td>1.932408</td>\n",
       "      <td>1.736256e+00</td>\n",
       "    </tr>\n",
       "    <tr>\n",
       "      <th>2</th>\n",
       "      <td>2</td>\n",
       "      <td>-4.903407e-07</td>\n",
       "      <td>8.201529</td>\n",
       "      <td>4.544371</td>\n",
       "      <td>6.550100</td>\n",
       "      <td>1.558442</td>\n",
       "      <td>2.467532</td>\n",
       "      <td>0.007164</td>\n",
       "      <td>7.142858</td>\n",
       "      <td>1.575492</td>\n",
       "      <td>...</td>\n",
       "      <td>2.500001</td>\n",
       "      <td>5.714286</td>\n",
       "      <td>1.970928</td>\n",
       "      <td>1.412265e-02</td>\n",
       "      <td>1.128724</td>\n",
       "      <td>5.844156</td>\n",
       "      <td>1.475892</td>\n",
       "      <td>0</td>\n",
       "      <td>1.263157</td>\n",
       "      <td>-6.380022e-07</td>\n",
       "    </tr>\n",
       "    <tr>\n",
       "      <th>3</th>\n",
       "      <td>7</td>\n",
       "      <td>2.661870e+00</td>\n",
       "      <td>3.041241</td>\n",
       "      <td>1.657216</td>\n",
       "      <td>9.773080</td>\n",
       "      <td>2.078337</td>\n",
       "      <td>1.430855</td>\n",
       "      <td>1.252157</td>\n",
       "      <td>7.959596</td>\n",
       "      <td>1.575493</td>\n",
       "      <td>...</td>\n",
       "      <td>4.149590</td>\n",
       "      <td>4.404040</td>\n",
       "      <td>8.163614</td>\n",
       "      <td>1.100329e+00</td>\n",
       "      <td>1.988688</td>\n",
       "      <td>1.558753</td>\n",
       "      <td>2.448814</td>\n",
       "      <td>0</td>\n",
       "      <td>5.385474</td>\n",
       "      <td>1.493777e+00</td>\n",
       "    </tr>\n",
       "    <tr>\n",
       "      <th>4</th>\n",
       "      <td>10</td>\n",
       "      <td>1.252822e+00</td>\n",
       "      <td>11.283352</td>\n",
       "      <td>4.638388</td>\n",
       "      <td>8.520510</td>\n",
       "      <td>2.302484</td>\n",
       "      <td>3.510159</td>\n",
       "      <td>0.074263</td>\n",
       "      <td>7.612904</td>\n",
       "      <td>1.050328</td>\n",
       "      <td>...</td>\n",
       "      <td>1.676217</td>\n",
       "      <td>6.580644</td>\n",
       "      <td>1.325654</td>\n",
       "      <td>2.584588e-01</td>\n",
       "      <td>1.863796</td>\n",
       "      <td>2.666478</td>\n",
       "      <td>2.374275</td>\n",
       "      <td>0</td>\n",
       "      <td>0.681672</td>\n",
       "      <td>2.264151e+00</td>\n",
       "    </tr>\n",
       "  </tbody>\n",
       "</table>\n",
       "<p>5 rows × 113 columns</p>\n",
       "</div>"
      ],
      "text/plain": [
       "   ID            v1         v2        v4        v5        v6        v7  \\\n",
       "0   0  1.375465e+00  11.361141  4.200778  6.577000  2.081784  1.784386   \n",
       "1   1  1.628623e+00   7.436088  4.141265  8.739797  2.435884  2.482134   \n",
       "2   2 -4.903407e-07   8.201529  4.544371  6.550100  1.558442  2.467532   \n",
       "3   7  2.661870e+00   3.041241  1.657216  9.773080  2.078337  1.430855   \n",
       "4  10  1.252822e+00  11.283352  4.638388  8.520510  2.302484  3.510159   \n",
       "\n",
       "         v8        v9       v10      ...           v121      v122      v123  \\\n",
       "0  0.011094  9.523810  1.312911      ...       3.267328  7.619048  1.815241   \n",
       "1  1.512246  9.031840  1.291029      ...       2.744040  6.823218  3.556940   \n",
       "2  0.007164  7.142858  1.575492      ...       2.500001  5.714286  1.970928   \n",
       "3  1.252157  7.959596  1.575493      ...       4.149590  4.404040  8.163614   \n",
       "4  0.074263  7.612904  1.050328      ...       1.676217  6.580644  1.325654   \n",
       "\n",
       "           v124      v126      v127      v128  v129      v130          v131  \n",
       "0  1.112270e-07  1.292368  3.903345  1.485925     0  2.333334  1.428572e+00  \n",
       "1  9.388672e-01  1.672504  3.237892  2.028595     0  1.932408  1.736256e+00  \n",
       "2  1.412265e-02  1.128724  5.844156  1.475892     0  1.263157 -6.380022e-07  \n",
       "3  1.100329e+00  1.988688  1.558753  2.448814     0  5.385474  1.493777e+00  \n",
       "4  2.584588e-01  1.863796  2.666478  2.374275     0  0.681672  2.264151e+00  \n",
       "\n",
       "[5 rows x 113 columns]"
      ]
     },
     "execution_count": 107,
     "metadata": {},
     "output_type": "execute_result"
    }
   ],
   "source": [
    "bnp_test.head()"
   ]
  },
  {
   "cell_type": "code",
   "execution_count": 108,
   "metadata": {
    "collapsed": false
   },
   "outputs": [],
   "source": [
    "bnp_train.to_csv('../processed_data/train1.csv')"
   ]
  },
  {
   "cell_type": "code",
   "execution_count": 109,
   "metadata": {
    "collapsed": false
   },
   "outputs": [],
   "source": [
    "list_of_cols_to_drop=['ID','target']"
   ]
  },
  {
   "cell_type": "code",
   "execution_count": 110,
   "metadata": {
    "collapsed": false
   },
   "outputs": [],
   "source": [
    "#Training Data\n",
    "y=bnp_train['target']\n",
    "x_train =bnp_train.drop(list_of_cols_to_drop,axis=1)\n",
    "\n",
    "x_train.replace(np.inf,np.nan,inplace=True)\n",
    "x_train.replace(-np.inf,np.nan,inplace=True)\n",
    "x_train.fillna(0,inplace=True)"
   ]
  },
  {
   "cell_type": "code",
   "execution_count": 113,
   "metadata": {
    "collapsed": false
   },
   "outputs": [],
   "source": [
    "\n",
    "# Create array of test data. Calculate the classification probability\n",
    "# and predicted classification.\n",
    "x_test =bnp_test.drop(['ID'],axis=1) \n",
    "x_test.replace(np.inf,np.nan,inplace=True)\n",
    "x_test.replace(-np.inf,np.nan,inplace=True)\n",
    "x_test.fillna(0,inplace=True)"
   ]
  },
  {
   "cell_type": "code",
   "execution_count": 117,
   "metadata": {
    "collapsed": false
   },
   "outputs": [
    {
     "name": "stdout",
     "output_type": "stream",
     "text": [
      "114321\n",
      "114321\n",
      "114393\n"
     ]
    }
   ],
   "source": [
    "print len(x_train)\n",
    "print len(y)\n",
    "print len(x_test)"
   ]
  },
  {
   "cell_type": "code",
   "execution_count": 154,
   "metadata": {
    "collapsed": false
   },
   "outputs": [
    {
     "name": "stdout",
     "output_type": "stream",
     "text": [
      "LogisticRegression(C=1.0, class_weight=None, dual=False, fit_intercept=True,\n",
      "          intercept_scaling=1, max_iter=100, multi_class='ovr', n_jobs=1,\n",
      "          penalty='l2', random_state=None, solver='newton-cg', tol=0.0001,\n",
      "          verbose=0, warm_start=False)\n"
     ]
    },
    {
     "data": {
      "text/plain": [
       "array([ 0.55063751,  0.94249257,  0.68004851, ...,  0.82520666,\n",
       "        0.6552644 ,  0.5818878 ])"
      ]
     },
     "execution_count": 154,
     "metadata": {},
     "output_type": "execute_result"
    }
   ],
   "source": [
    "clf = skl_lm.LogisticRegression(solver='newton-cg')\n",
    "clf.fit(x_train,y)\n",
    "prob = clf.predict_proba(x_test)[:,1]\n",
    "print clf\n",
    "prob"
   ]
  },
  {
   "cell_type": "code",
   "execution_count": 155,
   "metadata": {
    "collapsed": false
   },
   "outputs": [
    {
     "data": {
      "text/html": [
       "<div>\n",
       "<table border=\"1\" class=\"dataframe\">\n",
       "  <thead>\n",
       "    <tr style=\"text-align: right;\">\n",
       "      <th></th>\n",
       "      <th>Features</th>\n",
       "      <th>Coefficient_Estimate</th>\n",
       "    </tr>\n",
       "  </thead>\n",
       "  <tbody>\n",
       "    <tr>\n",
       "      <th>0</th>\n",
       "      <td>v1</td>\n",
       "      <td>0.003584</td>\n",
       "    </tr>\n",
       "    <tr>\n",
       "      <th>1</th>\n",
       "      <td>v2</td>\n",
       "      <td>0.000025</td>\n",
       "    </tr>\n",
       "    <tr>\n",
       "      <th>2</th>\n",
       "      <td>v4</td>\n",
       "      <td>0.000614</td>\n",
       "    </tr>\n",
       "    <tr>\n",
       "      <th>3</th>\n",
       "      <td>v5</td>\n",
       "      <td>0.002381</td>\n",
       "    </tr>\n",
       "    <tr>\n",
       "      <th>4</th>\n",
       "      <td>v6</td>\n",
       "      <td>0.003328</td>\n",
       "    </tr>\n",
       "  </tbody>\n",
       "</table>\n",
       "</div>"
      ],
      "text/plain": [
       "  Features  Coefficient_Estimate\n",
       "0       v1              0.003584\n",
       "1       v2              0.000025\n",
       "2       v4              0.000614\n",
       "3       v5              0.002381\n",
       "4       v6              0.003328"
      ]
     },
     "execution_count": 155,
     "metadata": {},
     "output_type": "execute_result"
    }
   ],
   "source": [
    "# get Coefficient of Determination(R^2) for each feature using Logistic Regression\n",
    "coeff_df = DataFrame(bnp_train.columns.delete([0,1]))\n",
    "coeff_df.columns = ['Features']\n",
    "coeff_df[\"Coefficient_Estimate\"] = (pd.Series(logreg.coef_[0])) ** 2\n",
    "\n",
    "# preview\n",
    "coeff_df.head()"
   ]
  },
  {
   "cell_type": "code",
   "execution_count": 156,
   "metadata": {
    "collapsed": false
   },
   "outputs": [
    {
     "data": {
      "text/plain": [
       "<matplotlib.text.Text at 0x18bad17d0>"
      ]
     },
     "execution_count": 156,
     "metadata": {},
     "output_type": "execute_result"
    },
    {
     "data": {
      "image/png": "[encoded data removed]",
      "text/plain": [
       "<matplotlib.figure.Figure at 0x1886a4490>"
      ]
     },
     "metadata": {},
     "output_type": "display_data"
    }
   ],
   "source": [
    "fig=coeff_df.plot(kind='barh',figsize=(15,15))\n",
    "fig.set_ylim(0,20)\n",
    "fig.set_title('Coeff Estimate')\n",
    "fig.set_yticklabels(coeff_df.Features)\n",
    "fig.set_ylabel('Features')\n",
    "fig.set_xlabel('Coefficients')"
   ]
  },
  {
   "cell_type": "code",
   "execution_count": 157,
   "metadata": {
    "collapsed": false
   },
   "outputs": [
    {
     "name": "stdout",
     "output_type": "stream",
     "text": [
      "114393\n",
      "114393\n"
     ]
    }
   ],
   "source": [
    "print len(submission)\n",
    "print len(prob)"
   ]
  },
  {
   "cell_type": "code",
   "execution_count": 159,
   "metadata": {
    "collapsed": false
   },
   "outputs": [],
   "source": [
    "#Predicted Probabilities\n",
    "submission = pd.DataFrame()\n",
    "submission[\"ID\"]            = bnp_test[\"ID\"]\n",
    "submission['PredictedProb'] = prob\n",
    "\n",
    "submission.to_csv('../processed_data/bnp.csv', index=False)"
   ]
  },
  {
   "cell_type": "code",
   "execution_count": null,
   "metadata": {
    "collapsed": true
   },
   "outputs": [],
   "source": []
  }
 ],
 "metadata": {
  "kernelspec": {
   "display_name": "Python 2",
   "language": "python",
   "name": "python2"
  },
  "language_info": {
   "codemirror_mode": {
    "name": "ipython",
    "version": 2
   },
   "file_extension": ".py",
   "mimetype": "text/x-python",
   "name": "python",
   "nbconvert_exporter": "python",
   "pygments_lexer": "ipython2",
   "version": "2.7.11"
  }
 },
 "nbformat": 4,
 "nbformat_minor": 0
}
